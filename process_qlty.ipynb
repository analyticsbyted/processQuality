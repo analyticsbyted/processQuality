{
 "cells": [
  {
   "cell_type": "markdown",
   "metadata": {},
   "source": [
    "# Process Quality Analysis\n",
    "\n",
    "## Project Description\n",
    "\n",
    "In this Jupyter Notebook, we will perform a process quality analysis for a retail manufacturing firm. The goal is to simulate a 3-sigma process and calculate various quality metrics, including USL, LSL, process distribution, defective rate, and conformance rate. This analysis will help us assess the quality of the manufacturing process."
   ]
  },
  {
   "cell_type": "markdown",
   "metadata": {},
   "source": [
    "### Step 1: Import Libraries\n",
    "\n",
    "We'll start by importing the necessary Python libraries for our analysis."
   ]
  },
  {
   "cell_type": "code",
   "execution_count": 82,
   "metadata": {},
   "outputs": [],
   "source": [
    "import numpy as np\n",
    "import pandas as pd\n",
    "import matplotlib.pyplot as plt\n",
    "import scipy.stats as stats\n",
    "from scipy.stats import norm"
   ]
  },
  {
   "cell_type": "markdown",
   "metadata": {},
   "source": [
    "### Step 2: Define Process Parameters\n",
    "\n",
    "Define the mean and standard deviation of the process to simulate."
   ]
  },
  {
   "cell_type": "code",
   "execution_count": 3,
   "metadata": {},
   "outputs": [],
   "source": [
    "# Set the seed for reproducibility\n",
    "np.random.seed(42)\n",
    "\n",
    "# Define process parameters\n",
    "mean = 100  # Mean of the process\n",
    "std_dev = 10  # Standard deviation of the process"
   ]
  },
  {
   "cell_type": "markdown",
   "metadata": {},
   "source": [
    "### Step 3: Generate dummy data for the process\n",
    "Generate random data that simulates the manufacturing process."
   ]
  },
  {
   "cell_type": "code",
   "execution_count": 91,
   "metadata": {},
   "outputs": [
    {
     "name": "stdout",
     "output_type": "stream",
     "text": [
      "Step 3: Generated dummy data for the process.\n",
      "Mean: 99.79965755485746\n"
     ]
    },
    {
     "data": {
      "text/plain": [
       "(10000,)"
      ]
     },
     "execution_count": 91,
     "metadata": {},
     "output_type": "execute_result"
    }
   ],
   "source": [
    "sample_size = 10000\n",
    "process_data = np.random.normal(mean, std_dev, sample_size)\n",
    "print(\"Step 3: Generated dummy data for the process.\")\n",
    "print(f\"Mean: {np.mean(process_data)}\")\n",
    "process_data.shape\n"
   ]
  },
  {
   "cell_type": "markdown",
   "metadata": {},
   "source": [
    "### Step 4: Define Quality Specifications\n",
    "\n",
    "Set the Upper Specification Limit (USL) and Lower Specification Limit (LSL)."
   ]
  },
  {
   "cell_type": "code",
   "execution_count": 10,
   "metadata": {},
   "outputs": [
    {
     "name": "stdout",
     "output_type": "stream",
     "text": [
      "Step 4: LSL = 80.0, Mean = 100, USL = 120.0, Sigma Number = 2.0\n"
     ]
    }
   ],
   "source": [
    "\n",
    "# Define the target sigma level (user-assigned)\n",
    "target_sigma_level = 6  # Change this to the desired sigma level (e.g., 6 sigma)\n",
    "\n",
    "# Calculate the corresponding specifications (USL and LSL) based on the target sigma level\n",
    "sigma_multiplier = target_sigma_level / 3  # Sigma multiplier for adjusting specifications\n",
    "USL = mean + sigma_multiplier * std_dev  # Upper Specification Limit\n",
    "LSL = mean - sigma_multiplier * std_dev  # Lower Specification Limit\n",
    "\n",
    "# Calculate sigma_number\n",
    "sigma_number = (USL - mean) / std_dev  # Sigma number\n",
    "\n",
    "print(f\"Step 4: LSL = {LSL}, Mean = {mean}, USL = {USL}, Sigma Number = {sigma_number}\")\n"
   ]
  },
  {
   "cell_type": "markdown",
   "metadata": {},
   "source": [
    "\n",
    "### Step 5: Calculate process capability metrics\n",
    "\n",
    "alculate various process capability metrics, including sigma, DPMO, DPU, CP, CPU, and CPL."
   ]
  },
  {
   "cell_type": "code",
   "execution_count": 13,
   "metadata": {},
   "outputs": [
    {
     "name": "stdout",
     "output_type": "stream",
     "text": [
      "Step 5: Process Sigma (σ): 10.00\n",
      "Step 5: Defects Per Million Opportunities (DPMO): 0.95\n",
      "Step 5: Defects Per Unit (DPU): 0.000095\n",
      "Step 5: Process Capability Index (CP): 0.67\n",
      "Step 5: Process Capability Index for Upper Specification (CPU): 0.33\n",
      "Step 5: Process Capability Index for Lower Specification (CPL): 0.33\n"
     ]
    }
   ],
   "source": [
    "sigma = std_dev  # Process sigma\n",
    "DPMO = stats.norm.cdf((USL - mean) / std_dev) - stats.norm.cdf((LSL - mean) / std_dev)\n",
    "DPU = DPMO / sample_size  # Defects Per Unit\n",
    "CP = (USL - LSL) / (6 * sigma)  # Process Capability Index (CP)\n",
    "CPU = CP / 2  # Process Capability Index for the Upper Specification (CPU)\n",
    "CPL = CP / 2  # Process Capability Index for the Lower Specification (CPL)\n",
    "\n",
    "print(f\"Step 5: Process Sigma (σ): {sigma:.2f}\")\n",
    "print(f\"Step 5: Defects Per Million Opportunities (DPMO): {DPMO:.2f}\")\n",
    "print(f\"Step 5: Defects Per Unit (DPU): {DPU:.6f}\")\n",
    "print(f\"Step 5: Process Capability Index (CP): {CP:.2f}\")\n",
    "print(f\"Step 5: Process Capability Index for Upper Specification (CPU): {CPU:.2f}\")\n",
    "print(f\"Step 5: Process Capability Index for Lower Specification (CPL): {CPL:.2f}\")"
   ]
  },
  {
   "cell_type": "markdown",
   "metadata": {},
   "source": []
  },
  {
   "cell_type": "markdown",
   "metadata": {},
   "source": [
    "\n",
    "### Calculate Defective Rate and Conformance Rate\n",
    "\n",
    "Calculate the total defective rate and conformance rate."
   ]
  },
  {
   "cell_type": "code",
   "execution_count": 80,
   "metadata": {},
   "outputs": [
    {
     "name": "stdout",
     "output_type": "stream",
     "text": [
      "Step 6: Total Defective Rate: 0.009545%\n",
      "Step 6: Total Conformance Rate: 99.990455%\n",
      "Step 6: Proportion of Products Within Specifications: 95.800000%\n"
     ]
    }
   ],
   "source": [
    "total_defective_rate = DPU * 100  # Convert to percentage\n",
    "total_conformance_rate = (1 - DPU) * 100  # Convert to percentage\n",
    "\n",
    "# Calculate the proportion of products within specifications\n",
    "within_spec = ((process_data >= LSL) & (process_data <= USL)).mean()*100\n",
    "\n",
    "print(f\"Step 6: Total Defective Rate: {total_defective_rate:.6f}%\")\n",
    "print(f\"Step 6: Total Conformance Rate: {total_conformance_rate:.6f}%\")\n",
    "print(f\"Step 6: Proportion of Products Within Specifications: {within_spec:.6f}%\")\n"
   ]
  },
  {
   "cell_type": "markdown",
   "metadata": {},
   "source": [
    "### Step 7: Visualize Process Distribution\n",
    "\n",
    "Create a histogram to visualize the process distribution with specifications."
   ]
  },
  {
   "cell_type": "code",
   "execution_count": 75,
   "metadata": {},
   "outputs": [
    {
     "data": {
      "image/png": "[encoded data removed]",
      "text/plain": [
       "<Figure size 1200x600 with 2 Axes>"
      ]
     },
     "metadata": {},
     "output_type": "display_data"
    },
    {
     "name": "stdout",
     "output_type": "stream",
     "text": [
      "Step 7: Visualized process distribution with specifications, LSL, USL, and 6-sigma normal curve.\n"
     ]
    }
   ],
   "source": [
    "# Create a histogram to visualize process distribution with improved formatting\n",
    "fig, ax1 = plt.subplots(figsize=(12, 6))  # Adjust the figure size as needed\n",
    "\n",
    "# Plot the process distribution without a label in the legend\n",
    "plt.hist(process_data, bins=30, density=True, alpha=0.6, color='b')\n",
    "\n",
    "# Plot USL and LSL lines on the histogram\n",
    "usl_line = plt.axvline(USL + 0.2, color='r', linestyle='dashed', linewidth=2)\n",
    "lsl_line = plt.axvline(LSL - 0.2, color='r', linestyle='dashed', linewidth=2)\n",
    "mean_line = plt.axvline(mean, color='darkgrey', linestyle='dashed', linewidth=2)\n",
    "\n",
    "# Label LSL and USL slightly to the right of the lines\n",
    "plt.text(LSL + 0.5, 0.04, f'LSL: {LSL:.2f}', rotation=0, color='black', fontsize='large')\n",
    "plt.text(USL + 0.7, 0.04, f'USL: {USL:.2f}', rotation=0, color='black', fontsize='large')\n",
    "\n",
    "# Create an array of values for the x-axis\n",
    "x = np.linspace(mean - 3 * std_dev, mean + 3 * std_dev, 1000)\n",
    "\n",
    "# Calculate the probability density function for the standard normal distribution\n",
    "pdf = norm.pdf(x, loc=mean, scale=std_dev)\n",
    "\n",
    "# Plot the 6-sigma normal curve line on top of the histogram\n",
    "plt.plot(x, pdf, 'k-', linewidth=2)\n",
    "\n",
    "# Add labels to the histogram with improved formatting\n",
    "plt.xlabel('Process Value', color='black')\n",
    "plt.ylabel('Probability Density', color='black')\n",
    "plt.title('Process Distribution with Specifications', pad=40)\n",
    "\n",
    "# Create a second x-axis for standard deviation values centered around the mean\n",
    "ax2 = ax1.twiny()\n",
    "std_dev_values = np.arange(-3, 4) * std_dev + mean\n",
    "std_dev_labels = ['-3σ', '-2σ', '-1σ', 'Mean', '1σ', '2σ', '3σ']\n",
    "ax2.set_xlim(ax1.get_xlim())  # Set the same limits as the original x-axis\n",
    "ax2.set_xticks(std_dev_values)\n",
    "ax2.set_xticklabels(std_dev_labels)\n",
    "\n",
    "# Adjust the y-axis increment to 0.01\n",
    "ax1.set_yticks(np.arange(0, 0.06, 0.01))\n",
    "\n",
    "# Label the regions outside of LSL and USL as \"Defects\"\n",
    "plt.text(LSL - 15, 0.02, 'Potential Defects', rotation=0, color='red', fontsize='large', weight='bold', va='center')\n",
    "plt.text(USL + 5.5, 0.02, 'Potential Defects', rotation=0, color='red', fontsize='large', weight='bold', va='center')\n",
    "\n",
    "\n",
    "# Show the histogram with the 6-sigma normal curve line\n",
    "plt.show()\n",
    "print(\"Step 7: Visualized process distribution with specifications, LSL, USL, and 6-sigma normal curve.\")\n"
   ]
  },
  {
   "cell_type": "markdown",
   "metadata": {},
   "source": [
    "### Display Results\n",
    "Print the calculated metrics and display the results"
   ]
  },
  {
   "cell_type": "code",
   "execution_count": 76,
   "metadata": {},
   "outputs": [
    {
     "name": "stdout",
     "output_type": "stream",
     "text": [
      "Step 8: Process Sigma (σ): 10.00\n",
      "Step 8: Defects Per Million Opportunities (DPMO): 0.95\n",
      "Step 8: Defects Per Unit (DPU): 0.000095\n",
      "Step 8: Process Capability Index (CP): 0.67\n",
      "Step 8: Process Capability Index for Upper Specification (CPU): 0.33\n",
      "Step 8: Process Capability Index for Lower Specification (CPL): 0.33\n",
      "Step 8: Total Defective Rate: 0.01%\n",
      "Step 8: Total Conformance Rate: 99.99%\n"
     ]
    }
   ],
   "source": [
    "print(f\"Step 8: Process Sigma (σ): {sigma:.2f}\")\n",
    "print(f\"Step 8: Defects Per Million Opportunities (DPMO): {DPMO:.2f}\")\n",
    "print(f\"Step 8: Defects Per Unit (DPU): {DPU:.6f}\")\n",
    "print(f\"Step 8: Process Capability Index (CP): {CP:.2f}\")\n",
    "print(f\"Step 8: Process Capability Index for Upper Specification (CPU): {CPU:.2f}\")\n",
    "print(f\"Step 8: Process Capability Index for Lower Specification (CPL): {CPL:.2f}\")\n",
    "print(f\"Step 8: Total Defective Rate: {total_defective_rate:.2f}%\")\n",
    "print(f\"Step 8: Total Conformance Rate: {total_conformance_rate:.2f}%\")\n"
   ]
  },
  {
   "cell_type": "code",
   "execution_count": 94,
   "metadata": {},
   "outputs": [
    {
     "name": "stdout",
     "output_type": "stream",
     "text": [
      "+--------------------+------------+\n",
      "| Metric             |      Value |\n",
      "+====================+============+\n",
      "| Mean               |  99.8754   |\n",
      "+--------------------+------------+\n",
      "| Standard Deviation |  10        |\n",
      "+--------------------+------------+\n",
      "| USL                | 120        |\n",
      "+--------------------+------------+\n",
      "| LSL                |  80        |\n",
      "+--------------------+------------+\n",
      "| Defective Rate     |   0.009545 |\n",
      "+--------------------+------------+\n",
      "| Cpk                |   0.662512 |\n",
      "+--------------------+------------+\n",
      "| Ppk                |   0.662512 |\n",
      "+--------------------+------------+\n",
      "Step 8: Displayed results in a table.\n"
     ]
    }
   ],
   "source": [
    "from tabulate import tabulate\n",
    "\n",
    "# Calculate the process capability indices\n",
    "Cpk = min((USL - mean) / (3 * std_dev), (mean - LSL) / (3 * std_dev))\n",
    "Ppk = min((USL - mean) / (3 * std_dev), (mean - LSL) / (3 * std_dev))\n",
    "\n",
    "results_data = [\n",
    "    ['Mean', mean],\n",
    "    ['Standard Deviation', std_dev],\n",
    "    ['USL', USL],\n",
    "    ['LSL', LSL],\n",
    "    ['Defective Rate', total_defective_rate],\n",
    "    ['Cpk', Cpk], # Process Capability Index\n",
    "    ['Ppk', Ppk]  # Process Performance Index\n",
    "]\n",
    "\n",
    "results_table = tabulate(results_data, headers=['Metric', 'Value'], tablefmt='grid')\n",
    "print(results_table)\n",
    "\n"
   ]
  },
  {
   "cell_type": "markdown",
   "metadata": {},
   "source": [
    "**Process Capability Analysis Summary**\n",
    "\n",
    "1. **Mean:** The mean of the process is approximately 99.88. This represents the central tendency of the process data.\n",
    "\n",
    "2. **Standard Deviation:** The standard deviation of 10 indicates the level of variation within the process. A higher standard deviation suggests greater process variability.\n",
    "\n",
    "3. **USL (Upper Specification Limit):** The upper specification limit is set at 120, representing the upper acceptable limit for product specifications.\n",
    "\n",
    "4. **LSL (Lower Specification Limit):** The lower specification limit is set at 80, representing the lower acceptable limit for product specifications.\n",
    "\n",
    "5. **Defective Rate:** The defective rate is approximately 0.955%, indicating that a very small proportion of products fall outside the specification limits. This suggests good process performance in terms of meeting specifications.\n",
    "\n",
    "6. **Cpk (Process Capability Index):** Cpk measures process capability in terms of both variation and centering within the specification limits. A Cpk of approximately 0.662 indicates that the process is capable of producing products within specifications, but there is room for improvement to achieve a higher capability.\n",
    "\n",
    "7. **Ppk (Pooled Process Capability Index):** Ppk is another measure of process capability and is equal to Cpk in this case.\n",
    "\n",
    "**Summary:**\n",
    "The process appears to be capable of producing products that mostly meet specifications, as indicated by the low defective rate. However, there is an opportunity to further improve the process capability, especially in terms of reducing variation and better centering the process within the specification limits."
   ]
  },
  {
   "cell_type": "markdown",
   "metadata": {},
   "source": [
    "The End."
   ]
  },
  {
   "cell_type": "markdown",
   "metadata": {},
   "source": []
  }
 ],
 "metadata": {
  "kernelspec": {
   "display_name": "customerBehenv",
   "language": "python",
   "name": "customerbehenv"
  },
  "language_info": {
   "codemirror_mode": {
    "name": "ipython",
    "version": 3
   },
   "file_extension": ".py",
   "mimetype": "text/x-python",
   "name": "python",
   "nbconvert_exporter": "python",
   "pygments_lexer": "ipython3",
   "version": "3.9.16"
  },
  "orig_nbformat": 4
 },
 "nbformat": 4,
 "nbformat_minor": 2
}
